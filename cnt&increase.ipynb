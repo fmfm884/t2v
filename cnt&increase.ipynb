{
 "cells": [
  {
   "cell_type": "markdown",
   "metadata": {},
   "source": [
    "### cnt"
   ]
  },
  {
   "cell_type": "code",
   "execution_count": 25,
   "metadata": {},
   "outputs": [],
   "source": [
    "import os\n",
    "import glob\n",
    "import numpy as np\n",
    "\n",
    "INPUT_DIR = 'extend-mydata'"
   ]
  },
  {
   "cell_type": "code",
   "execution_count": 26,
   "metadata": {},
   "outputs": [
    {
     "name": "stdout",
     "output_type": "stream",
     "text": [
      "0_American-shorthair: 1233\n",
      "0_Russian-blue: 1050\n",
      "0_Scottish-fold: 1098\n",
      "1_Chihuahua: 1002\n",
      "1_Papillion: 1230\n",
      "1_Toy-poodle: 1095\n",
      "2_Black: 1005\n",
      "2_Blue: 1268\n",
      "2_Brown: 968\n",
      "2_Green: 1088\n",
      "2_Purple: 1028\n",
      "3_Denim: 1245\n",
      "3_Jeans: 1145\n",
      "3_Ripped-jeans: 1110\n",
      "4_Formal-dresses: 1494\n",
      "4_Wedding-dresses: 1939\n"
     ]
    }
   ],
   "source": [
    "task_name = os.listdir(INPUT_DIR)\n",
    "\n",
    "for name in task_name:\n",
    "    cnt = len(glob.glob(INPUT_DIR + '\\\\' + name + '\\\\*'))\n",
    "    print(name + ': ' + str(cnt))"
   ]
  },
  {
   "cell_type": "markdown",
   "metadata": {},
   "source": [
    "### increase"
   ]
  },
  {
   "cell_type": "code",
   "execution_count": 22,
   "metadata": {},
   "outputs": [],
   "source": [
    "import os\n",
    "import glob\n",
    "import numpy as np\n",
    "from keras.preprocessing.image import ImageDataGenerator, load_img, img_to_array, array_to_img\n",
    "\n",
    "INPUT_DIR = 'Fassion_dataset//4_Wedding-dresses'\n",
    "OUTPUT_DIR = 'extend_fassion//4_Wedding-dresses'\n",
    "EXTEND_CNT = 5"
   ]
  },
  {
   "cell_type": "code",
   "execution_count": 23,
   "metadata": {},
   "outputs": [],
   "source": [
    "def draw_images(generator, x, dir_name, index, cnt):\n",
    "    # 出力ファイルの設定\n",
    "    save_name = 'extened-' + str(index)\n",
    "    g = generator.flow(x, batch_size=1, save_to_dir=dir_name, save_prefix=save_name, save_format='jpg')\n",
    "\n",
    "    # 1つの入力画像から何枚拡張するかを指定\n",
    "    # g.next()の回数分拡張される\n",
    "    for i in range(cnt):\n",
    "        bach = g.next()"
   ]
  },
  {
   "cell_type": "code",
   "execution_count": 24,
   "metadata": {},
   "outputs": [],
   "source": [
    "if __name__ == '__main__':\n",
    "\n",
    "    if not(os.path.exists(OUTPUT_DIR)):\n",
    "        os.mkdir(OUTPUT_DIR)\n",
    "\n",
    "    # 拡張する画像群の読み込み\n",
    "    images = glob.glob(os.path.join(INPUT_DIR, \"*.jpg\"))\n",
    "\n",
    "    # 拡張する際の設定\n",
    "    generator = ImageDataGenerator(\n",
    "                    #rotation_range=90, # 90°まで回転\n",
    "                    #width_shift_range=0.1, # 水平方向にランダムでシフト\n",
    "                    #height_shift_range=0.1, # 垂直方向にランダムでシフト\n",
    "                    channel_shift_range=20.0, # 色調をランダム変更\n",
    "                    #shear_range=0.39, # 斜め方向(pi/8まで)に引っ張る\n",
    "                    horizontal_flip=True, # 垂直方向にランダムで反転\n",
    "                    #vertical_flip=True # 水平方向にランダムで反転\n",
    "                    )\n",
    "\n",
    "    # 読み込んだ画像を順に拡張\n",
    "    for i in range(len(images)):\n",
    "        img = load_img(images[i])\n",
    "        # 画像を配列化して転置a\n",
    "        x = img_to_array(img)\n",
    "        x = np.expand_dims(x, axis=0)\n",
    "        # 画像の拡張\n",
    "        draw_images(generator, x, OUTPUT_DIR, i, EXTEND_CNT)\n"
   ]
  },
  {
   "cell_type": "code",
   "execution_count": null,
   "metadata": {},
   "outputs": [],
   "source": []
  }
 ],
 "metadata": {
  "kernelspec": {
   "display_name": "Python 3",
   "language": "python",
   "name": "python3"
  },
  "language_info": {
   "codemirror_mode": {
    "name": "ipython",
    "version": 3
   },
   "file_extension": ".py",
   "mimetype": "text/x-python",
   "name": "python",
   "nbconvert_exporter": "python",
   "pygments_lexer": "ipython3",
   "version": "3.6.12"
  }
 },
 "nbformat": 4,
 "nbformat_minor": 4
}
